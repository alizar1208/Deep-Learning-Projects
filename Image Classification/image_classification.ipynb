{
  "nbformat": 4,
  "nbformat_minor": 0,
  "metadata": {
    "colab": {
      "name": "1103258.ipynb",
      "provenance": []
    },
    "kernelspec": {
      "name": "python3",
      "display_name": "Python 3"
    },
    "accelerator": "GPU"
  },
  "cells": [
    {
      "cell_type": "code",
      "metadata": {
        "id": "OqdO1nNB3eli",
        "colab_type": "code",
        "colab": {
          "base_uri": "https://localhost:8080/",
          "height": 122
        },
        "outputId": "bf372a95-d389-4749-9c6e-a41b48aaf2c0"
      },
      "source": [
        "from google.colab import drive\n",
        "drive.mount('/content/drive')"
      ],
      "execution_count": 1,
      "outputs": [
        {
          "output_type": "stream",
          "text": [
            "Go to this URL in a browser: https://accounts.google.com/o/oauth2/auth?client_id=947318989803-6bn6qk8qdgf4n4g3pfee6491hc0brc4i.apps.googleusercontent.com&redirect_uri=urn%3aietf%3awg%3aoauth%3a2.0%3aoob&response_type=code&scope=email%20https%3a%2f%2fwww.googleapis.com%2fauth%2fdocs.test%20https%3a%2f%2fwww.googleapis.com%2fauth%2fdrive%20https%3a%2f%2fwww.googleapis.com%2fauth%2fdrive.photos.readonly%20https%3a%2f%2fwww.googleapis.com%2fauth%2fpeopleapi.readonly\n",
            "\n",
            "Enter your authorization code:\n",
            "··········\n",
            "Mounted at /content/drive\n"
          ],
          "name": "stdout"
        }
      ]
    },
    {
      "cell_type": "markdown",
      "metadata": {
        "id": "uJ8_w0Slxwyj",
        "colab_type": "text"
      },
      "source": [
        ""
      ]
    },
    {
      "cell_type": "code",
      "metadata": {
        "id": "a3uJDlqU3eN3",
        "colab_type": "code",
        "colab": {}
      },
      "source": [
        "#Importing all the required libraries\n",
        "import glob,os\n",
        "import os, os.path, shutil\n",
        "import cv2\n",
        "import pandas as pd\n",
        "from sklearn import preprocessing\n",
        "from sklearn.preprocessing import LabelBinarizer\n",
        "import numpy as np\n",
        "from sklearn.model_selection import RandomizedSearchCV\n",
        "from sklearn.ensemble import RandomForestClassifier\n",
        "from sklearn.datasets import make_classification\n",
        "from sklearn.model_selection import train_test_split\n",
        "import keras.models\n",
        "from keras.models import Sequential\n",
        "from keras.layers import Activation, Dense, Conv2D, Convolution2D, MaxPooling2D, Flatten, Dropout, BatchNormalization\n",
        "from keras.preprocessing.image import ImageDataGenerator\n",
        "from sklearn.neighbors import KNeighborsClassifier\n",
        "from keras.models import Model\n",
        "from sklearn.neighbors import KNeighborsClassifier\n",
        "from sklearn.metrics import accuracy_score\n",
        "import pickle\n",
        "import matplotlib.pyplot as plt\n",
        "from sklearn.metrics import confusion_matrix\n"
      ],
      "execution_count": 2,
      "outputs": []
    },
    {
      "cell_type": "markdown",
      "metadata": {
        "id": "TV9LG1cVDbBf",
        "colab_type": "text"
      },
      "source": [
        "Importing the data and preprocessing"
      ]
    },
    {
      "cell_type": "code",
      "metadata": {
        "id": "e9JUqY1gGzeU",
        "colab_type": "code",
        "colab": {}
      },
      "source": [
        "# Dividing the images into 3 separate folders as per their label\n",
        "path = '/content/drive/My Drive/DS'\n",
        "import os, os.path, shutil\n",
        "\n",
        "folder_path = \"/content/drive/My Drive/DS\"\n",
        "\n",
        "images = [f for f in os.listdir(folder_path) if os.path.isfile(os.path.join(folder_path, f))]\n",
        "\n",
        "for image in images:\n",
        "    folder_name = image.split('_')[0]\n",
        "\n",
        "    new_path = os.path.join(folder_path, folder_name)\n",
        "    if not os.path.exists(new_path):\n",
        "        os.makedirs(new_path)\n",
        "\n",
        "    old_image_path = os.path.join(folder_path, image)\n",
        "    new_image_path = os.path.join(new_path, image)\n",
        "    shutil.move(old_image_path, new_image_path)\n"
      ],
      "execution_count": 3,
      "outputs": []
    },
    {
      "cell_type": "code",
      "metadata": {
        "id": "hjE3zcMMQR0d",
        "colab_type": "code",
        "colab": {}
      },
      "source": [
        "#Retrieving the images of abdomen and converting it into arrays\n",
        "path = '/content/drive/My Drive/DS/Abdomen/*.jpeg'\n",
        "e=[]\n",
        "f=[]\n",
        "for file in glob.glob(path):\n",
        "  #resizing the image size to (32,32)\n",
        "  img1=cv2.resize(cv2.imread(file),(32,32))\n",
        "  #normalizing each input image\n",
        "  e.append(img1/255)\n",
        "  #creating list of labels\n",
        "  k= file.split('/')\n",
        "  k=k[-2]\n",
        "  f.append(k)"
      ],
      "execution_count": 4,
      "outputs": []
    },
    {
      "cell_type": "code",
      "metadata": {
        "id": "x7freTgtE7IW",
        "colab_type": "code",
        "colab": {}
      },
      "source": [
        "#Retrieving the images of chest and converting it into arrays\n",
        "path3 = '/content/drive/My Drive/DS/Chest/*.jpeg'\n",
        "i=[]\n",
        "j=[]\n",
        "for file1 in glob.glob(path3):\n",
        "  #resizing the image size to (32,32)\n",
        "  img2=cv2.resize(cv2.imread(file1),(32,32))\n",
        "  #normalizing each input image\n",
        "  i.append(img2/255)\n",
        "  #creating list of labels\n",
        "  l= file1.split('/')\n",
        "  l=l[-2]\n",
        "  j.append(l)"
      ],
      "execution_count": 5,
      "outputs": []
    },
    {
      "cell_type": "code",
      "metadata": {
        "id": "pypybGRuWJuH",
        "colab_type": "code",
        "colab": {}
      },
      "source": [
        "#Retrieving the images of head and converting it into arrays\n",
        "path2 = '/content/drive/My Drive/DS/Head/*.jpeg'\n",
        "g=[]\n",
        "h=[]\n",
        "for file2 in glob.glob(path2):\n",
        "  #resizing the image size to (32,32)\n",
        "  img3=cv2.resize(cv2.imread(file2),(32,32))\n",
        "  #normalizing each input image\n",
        "  g.append(img3/255)\n",
        "  #creating list of labels\n",
        "  o= file2.split('/')\n",
        "  o=o[-2]\n",
        "  h.append(o)"
      ],
      "execution_count": 6,
      "outputs": []
    },
    {
      "cell_type": "code",
      "metadata": {
        "id": "DvqVxFXMTS1_",
        "colab_type": "code",
        "colab": {}
      },
      "source": [
        "#concating all the strings\n",
        "train= e+i+g\n",
        "test= f+j+h"
      ],
      "execution_count": 7,
      "outputs": []
    },
    {
      "cell_type": "code",
      "metadata": {
        "id": "OYqfBPQqoYIt",
        "colab_type": "code",
        "colab": {
          "base_uri": "https://localhost:8080/",
          "height": 34
        },
        "outputId": "15e39c12-e672-4316-df1d-0a44d3f33cf5"
      },
      "source": [
        "len(test)\n",
        "len(train)"
      ],
      "execution_count": 8,
      "outputs": [
        {
          "output_type": "execute_result",
          "data": {
            "text/plain": [
              "1500"
            ]
          },
          "metadata": {
            "tags": []
          },
          "execution_count": 8
        }
      ]
    },
    {
      "cell_type": "code",
      "metadata": {
        "id": "AMqYEiDlohFq",
        "colab_type": "code",
        "colab": {}
      },
      "source": [
        "#converting lists into arrays\n",
        "train1 = np.array(train)\n",
        "test1 = np.array(test)"
      ],
      "execution_count": 9,
      "outputs": []
    },
    {
      "cell_type": "code",
      "metadata": {
        "id": "e_WLC8mkpMTZ",
        "colab_type": "code",
        "colab": {
          "base_uri": "https://localhost:8080/",
          "height": 34
        },
        "outputId": "82239ad5-8cdd-4fb1-ce79-54b4878dc742"
      },
      "source": [
        "print(np.unique(test1))"
      ],
      "execution_count": 10,
      "outputs": [
        {
          "output_type": "stream",
          "text": [
            "['Abdomen' 'Chest' 'Head']\n"
          ],
          "name": "stdout"
        }
      ]
    },
    {
      "cell_type": "code",
      "metadata": {
        "id": "G8WwFPu6sT9j",
        "colab_type": "code",
        "colab": {}
      },
      "source": [
        "#using label binarizer to convert string to array\n",
        "lb = preprocessing.LabelBinarizer()\n",
        "test1=lb.fit_transform(test1)"
      ],
      "execution_count": 11,
      "outputs": []
    },
    {
      "cell_type": "code",
      "metadata": {
        "id": "OnUX51gNgRzY",
        "colab_type": "code",
        "colab": {
          "base_uri": "https://localhost:8080/",
          "height": 136
        },
        "outputId": "95f1362e-0674-4ee2-ce41-290f40377960"
      },
      "source": [
        "test1"
      ],
      "execution_count": 12,
      "outputs": [
        {
          "output_type": "execute_result",
          "data": {
            "text/plain": [
              "array([[1, 0, 0],\n",
              "       [1, 0, 0],\n",
              "       [1, 0, 0],\n",
              "       ...,\n",
              "       [0, 0, 1],\n",
              "       [0, 0, 1],\n",
              "       [0, 0, 1]])"
            ]
          },
          "metadata": {
            "tags": []
          },
          "execution_count": 12
        }
      ]
    },
    {
      "cell_type": "markdown",
      "metadata": {
        "id": "2Dl4t_rtDOjD",
        "colab_type": "text"
      },
      "source": [
        ""
      ]
    },
    {
      "cell_type": "code",
      "metadata": {
        "id": "jbFIZvrDUv_s",
        "colab_type": "code",
        "colab": {}
      },
      "source": [
        "#splitting dataset into training and testing data\n",
        "X_train, X_test, Y_train, Y_test = train_test_split(train1, test1, test_size=0.3,shuffle = True,random_state=42)"
      ],
      "execution_count": 13,
      "outputs": []
    },
    {
      "cell_type": "markdown",
      "metadata": {
        "id": "vgn1x2OGthRE",
        "colab_type": "text"
      },
      "source": [
        ""
      ]
    },
    {
      "cell_type": "code",
      "metadata": {
        "id": "NM-DV-w1vvY-",
        "colab_type": "code",
        "colab": {
          "base_uri": "https://localhost:8080/",
          "height": 85
        },
        "outputId": "9c5be4c5-11a1-4967-feeb-05598599fb56"
      },
      "source": [
        "print(\"x train\",X_train.shape)\n",
        "print(\"y train\",Y_train.shape)\n",
        "print(\"x test\",X_test.shape)\n",
        "print(\"y test\",Y_test.shape)"
      ],
      "execution_count": 14,
      "outputs": [
        {
          "output_type": "stream",
          "text": [
            "x train (1050, 32, 32, 3)\n",
            "y train (1050, 3)\n",
            "x test (450, 32, 32, 3)\n",
            "y test (450, 3)\n"
          ],
          "name": "stdout"
        }
      ]
    },
    {
      "cell_type": "markdown",
      "metadata": {
        "id": "wHk7xGVZDRlE",
        "colab_type": "text"
      },
      "source": [
        "CNN"
      ]
    },
    {
      "cell_type": "code",
      "metadata": {
        "id": "wKQ76vY-xYgN",
        "colab_type": "code",
        "colab": {
          "base_uri": "https://localhost:8080/",
          "height": 799
        },
        "outputId": "27ad75b2-ce87-41b1-807d-46cf10475374"
      },
      "source": [
        "#Create a model\n",
        "model = Sequential()\n",
        "model.add(Conv2D(64,(2,2), strides=(2,2),  activation='relu', input_shape=(32,32,3), padding = 'same'))\n",
        "model.add(BatchNormalization())\n",
        "model.add(Dropout(0.6))\n",
        "model.add(MaxPooling2D(pool_size=(2, 2),strides = (2,2)))\n",
        "\n",
        "model.add(Conv2D(128, (2,2), activation='relu', padding = 'same'))\n",
        "model.add(BatchNormalization())\n",
        "model.add(Dropout(0.6))\n",
        "model.add(MaxPooling2D(pool_size=(2, 2), strides = (2,2)))\n",
        "\n",
        "model.add(Conv2D(256, (2,2), activation='relu', padding = 'same'))\n",
        "model.add(BatchNormalization())\n",
        "model.add(Dropout(0.6))\n",
        "model.add(MaxPooling2D(pool_size=(2, 2),strides = (2,2)))\n",
        "\n",
        "model.add(Flatten())\n",
        "model.add(Dropout(0.6))\n",
        "model.add(Dense(512, activation='relu'))\n",
        "model.add(Dropout(0.6))\n",
        "model.add(Dense(512, activation='relu', name=\"feature_dense\"))\n",
        "model.add(Dropout(0.6))\n",
        "model.add(Dense(3, activation='softmax'))\n",
        "model.summary()"
      ],
      "execution_count": 15,
      "outputs": [
        {
          "output_type": "stream",
          "text": [
            "Model: \"sequential\"\n",
            "_________________________________________________________________\n",
            "Layer (type)                 Output Shape              Param #   \n",
            "=================================================================\n",
            "conv2d (Conv2D)              (None, 16, 16, 64)        832       \n",
            "_________________________________________________________________\n",
            "batch_normalization (BatchNo (None, 16, 16, 64)        256       \n",
            "_________________________________________________________________\n",
            "dropout (Dropout)            (None, 16, 16, 64)        0         \n",
            "_________________________________________________________________\n",
            "max_pooling2d (MaxPooling2D) (None, 8, 8, 64)          0         \n",
            "_________________________________________________________________\n",
            "conv2d_1 (Conv2D)            (None, 8, 8, 128)         32896     \n",
            "_________________________________________________________________\n",
            "batch_normalization_1 (Batch (None, 8, 8, 128)         512       \n",
            "_________________________________________________________________\n",
            "dropout_1 (Dropout)          (None, 8, 8, 128)         0         \n",
            "_________________________________________________________________\n",
            "max_pooling2d_1 (MaxPooling2 (None, 4, 4, 128)         0         \n",
            "_________________________________________________________________\n",
            "conv2d_2 (Conv2D)            (None, 4, 4, 256)         131328    \n",
            "_________________________________________________________________\n",
            "batch_normalization_2 (Batch (None, 4, 4, 256)         1024      \n",
            "_________________________________________________________________\n",
            "dropout_2 (Dropout)          (None, 4, 4, 256)         0         \n",
            "_________________________________________________________________\n",
            "max_pooling2d_2 (MaxPooling2 (None, 2, 2, 256)         0         \n",
            "_________________________________________________________________\n",
            "flatten (Flatten)            (None, 1024)              0         \n",
            "_________________________________________________________________\n",
            "dropout_3 (Dropout)          (None, 1024)              0         \n",
            "_________________________________________________________________\n",
            "dense (Dense)                (None, 512)               524800    \n",
            "_________________________________________________________________\n",
            "dropout_4 (Dropout)          (None, 512)               0         \n",
            "_________________________________________________________________\n",
            "feature_dense (Dense)        (None, 512)               262656    \n",
            "_________________________________________________________________\n",
            "dropout_5 (Dropout)          (None, 512)               0         \n",
            "_________________________________________________________________\n",
            "dense_1 (Dense)              (None, 3)                 1539      \n",
            "=================================================================\n",
            "Total params: 955,843\n",
            "Trainable params: 954,947\n",
            "Non-trainable params: 896\n",
            "_________________________________________________________________\n"
          ],
          "name": "stdout"
        }
      ]
    },
    {
      "cell_type": "code",
      "metadata": {
        "id": "obaxY4HUI2To",
        "colab_type": "code",
        "colab": {}
      },
      "source": [
        "#compile the model\n",
        "op = keras.optimizers.Adam(learning_rate=0.01)\n",
        "model.compile(loss='categorical_crossentropy', metrics=['accuracy'], optimizer=op)\n"
      ],
      "execution_count": 16,
      "outputs": []
    },
    {
      "cell_type": "code",
      "metadata": {
        "id": "1hm-Tp1wUDa_",
        "colab_type": "code",
        "colab": {
          "base_uri": "https://localhost:8080/",
          "height": 357
        },
        "outputId": "3e8c687b-26c9-48ab-9c32-1c80a242e93a"
      },
      "source": [
        "hist = model.fit(X_train, Y_train,\n",
        "              batch_size=32,epochs=10,verbose=2, validation_data = (X_test,Y_test) )"
      ],
      "execution_count": 17,
      "outputs": [
        {
          "output_type": "stream",
          "text": [
            "Epoch 1/10\n",
            "33/33 - 0s - loss: 4.4626 - accuracy: 0.7371 - val_loss: 30.0590 - val_accuracy: 0.3133\n",
            "Epoch 2/10\n",
            "33/33 - 0s - loss: 0.2871 - accuracy: 0.9714 - val_loss: 61.1325 - val_accuracy: 0.3133\n",
            "Epoch 3/10\n",
            "33/33 - 0s - loss: 0.0782 - accuracy: 0.9876 - val_loss: 63.5389 - val_accuracy: 0.3356\n",
            "Epoch 4/10\n",
            "33/33 - 0s - loss: 0.3523 - accuracy: 0.9686 - val_loss: 68.4085 - val_accuracy: 0.3311\n",
            "Epoch 5/10\n",
            "33/33 - 0s - loss: 0.2008 - accuracy: 0.9848 - val_loss: 91.8938 - val_accuracy: 0.6111\n",
            "Epoch 6/10\n",
            "33/33 - 0s - loss: 0.1722 - accuracy: 0.9857 - val_loss: 149.4826 - val_accuracy: 0.6733\n",
            "Epoch 7/10\n",
            "33/33 - 0s - loss: 0.8288 - accuracy: 0.9638 - val_loss: 18.6794 - val_accuracy: 0.7756\n",
            "Epoch 8/10\n",
            "33/33 - 0s - loss: 0.5731 - accuracy: 0.9781 - val_loss: 60.7051 - val_accuracy: 0.7556\n",
            "Epoch 9/10\n",
            "33/33 - 0s - loss: 0.1967 - accuracy: 0.9914 - val_loss: 461.6149 - val_accuracy: 0.6867\n",
            "Epoch 10/10\n",
            "33/33 - 0s - loss: 0.5687 - accuracy: 0.9886 - val_loss: 262.2645 - val_accuracy: 0.6867\n"
          ],
          "name": "stdout"
        }
      ]
    },
    {
      "cell_type": "code",
      "metadata": {
        "id": "hwhC3U3sGnkg",
        "colab_type": "code",
        "colab": {}
      },
      "source": [
        "#Feature extraction from CNN\n",
        "new_model=Model(inputs=model.input,outputs=model.get_layer('feature_dense').output)"
      ],
      "execution_count": 18,
      "outputs": []
    },
    {
      "cell_type": "code",
      "metadata": {
        "id": "wPCshUKKB0zK",
        "colab_type": "code",
        "colab": {}
      },
      "source": [
        "# Extracting features for train data and test data separately\n",
        "train_x=new_model.predict(X_train)\n",
        "test_x=new_model.predict(X_test)"
      ],
      "execution_count": 19,
      "outputs": []
    },
    {
      "cell_type": "markdown",
      "metadata": {
        "id": "hunZSRfODCdS",
        "colab_type": "text"
      },
      "source": [
        "KNN"
      ]
    },
    {
      "cell_type": "code",
      "metadata": {
        "id": "sHkfrFtcXFct",
        "colab_type": "code",
        "colab": {
          "base_uri": "https://localhost:8080/",
          "height": 51
        },
        "outputId": "57189192-8a30-4041-9090-58a757f59fdf"
      },
      "source": [
        "\n",
        "kNN_values = [3,5,7,9]\n",
        "accuracy_final = []\n",
        "filename = 'KNN picklefile'\n",
        "for k in kNN_values:\n",
        "  knn=KNeighborsClassifier(n_neighbors= k, p=2)\n",
        "  knn.fit(train_x,Y_train)\n",
        "  #save the trained model\n",
        "  pickle.dump(knn, open('1103258-KNN', 'wb'))\n",
        "\n",
        "for k in kNN_values:  \n",
        "  #load the pre-trained model\n",
        "  loaded_knc = pickle.load(open('1103258-KNN', 'rb'))\n",
        "  #make prediction\n",
        "  predict_val = loaded_knc.predict(test_x)\n",
        "  accuracy = accuracy_score(Y_test,predict_val)\n",
        "  accuracy_final.append(accuracy)\n",
        "print(\"KNN Accuracy\")\n",
        "print(accuracy_final)\n"
      ],
      "execution_count": 20,
      "outputs": [
        {
          "output_type": "stream",
          "text": [
            "KNN Accuracy\n",
            "[0.9977777777777778, 0.9977777777777778, 0.9977777777777778, 0.9977777777777778]\n"
          ],
          "name": "stdout"
        }
      ]
    },
    {
      "cell_type": "code",
      "metadata": {
        "id": "HCAc0LutzRur",
        "colab_type": "code",
        "colab": {
          "base_uri": "https://localhost:8080/",
          "height": 68
        },
        "outputId": "8b5518bc-6ac9-46d6-872a-e3f25c632cd0"
      },
      "source": [
        "# Confusion matrix for KNN\n",
        "confusion_matrix(\n",
        "    Y_test.argmax(axis=1), predict_val.argmax(axis=1))"
      ],
      "execution_count": 21,
      "outputs": [
        {
          "output_type": "execute_result",
          "data": {
            "text/plain": [
              "array([[147,   1,   0],\n",
              "       [  0, 141,   0],\n",
              "       [  0,   0, 161]])"
            ]
          },
          "metadata": {
            "tags": []
          },
          "execution_count": 21
        }
      ]
    },
    {
      "cell_type": "code",
      "metadata": {
        "id": "f2En33t5b_Dv",
        "colab_type": "code",
        "colab": {
          "base_uri": "https://localhost:8080/",
          "height": 296
        },
        "outputId": "021e36cc-67a0-4cc1-ebd1-91383c0ead0d"
      },
      "source": [
        "#plotting graph for each k value\n",
        "fig, CNN = plt.subplots()\n",
        "CNN.bar(kNN_values, accuracy)\n",
        "plt.xlabel('Epochs')\n",
        "plt.ylabel('Accuracy')\n",
        "\n"
      ],
      "execution_count": 22,
      "outputs": [
        {
          "output_type": "execute_result",
          "data": {
            "text/plain": [
              "Text(0, 0.5, 'Accuracy')"
            ]
          },
          "metadata": {
            "tags": []
          },
          "execution_count": 22
        },
        {
          "output_type": "display_data",
          "data": {
            "image/png": "[encoded data removed]",
            "text/plain": [
              "<Figure size 432x288 with 1 Axes>"
            ]
          },
          "metadata": {
            "tags": [],
            "needs_background": "light"
          }
        }
      ]
    },
    {
      "cell_type": "markdown",
      "metadata": {
        "id": "y45MVrrTDH1l",
        "colab_type": "text"
      },
      "source": [
        "Random Forest"
      ]
    },
    {
      "cell_type": "code",
      "metadata": {
        "id": "dljmffUFenny",
        "colab_type": "code",
        "colab": {}
      },
      "source": [
        "#Hyperparamter tuning using random search\n",
        "random_grid = {'max_depth': [10, 20, 30, 40, 50, 60, 70, 80, 90, 100, 110, None],\n",
        "               'n_estimators': [130, 180, 230],\n",
        "               'min_samples_split': [2,5,10]\n",
        "               }\n",
        "rf = RandomForestClassifier()\n",
        "rf_random = RandomizedSearchCV(estimator = rf, param_distributions = random_grid, n_iter = 100, verbose=2, random_state=42, cv=2, n_jobs = -1, scoring=\"neg_mean_squared_error\")"
      ],
      "execution_count": 23,
      "outputs": []
    },
    {
      "cell_type": "code",
      "metadata": {
        "id": "7TUAeGjmelVo",
        "colab_type": "code",
        "colab": {
          "base_uri": "https://localhost:8080/",
          "height": 102
        },
        "outputId": "fed3272e-6446-48e5-a9f2-14a11b6544e9"
      },
      "source": [
        "rf_loaded=rf_random.fit(train_x,Y_train)"
      ],
      "execution_count": 24,
      "outputs": [
        {
          "output_type": "stream",
          "text": [
            "Fitting 2 folds for each of 100 candidates, totalling 200 fits\n"
          ],
          "name": "stdout"
        },
        {
          "output_type": "stream",
          "text": [
            "[Parallel(n_jobs=-1)]: Using backend LokyBackend with 2 concurrent workers.\n",
            "[Parallel(n_jobs=-1)]: Done  37 tasks      | elapsed:   10.8s\n",
            "[Parallel(n_jobs=-1)]: Done 158 tasks      | elapsed:   41.2s\n",
            "[Parallel(n_jobs=-1)]: Done 200 out of 200 | elapsed:   52.0s finished\n"
          ],
          "name": "stderr"
        }
      ]
    },
    {
      "cell_type": "code",
      "metadata": {
        "id": "jsir3s57g3nK",
        "colab_type": "code",
        "colab": {
          "base_uri": "https://localhost:8080/",
          "height": 153
        },
        "outputId": "b9cdffcb-bf60-4530-9e65-f4ddd2117bb6"
      },
      "source": [
        "rf_loaded.best_estimator_"
      ],
      "execution_count": 25,
      "outputs": [
        {
          "output_type": "execute_result",
          "data": {
            "text/plain": [
              "RandomForestClassifier(bootstrap=True, ccp_alpha=0.0, class_weight=None,\n",
              "                       criterion='gini', max_depth=90, max_features='auto',\n",
              "                       max_leaf_nodes=None, max_samples=None,\n",
              "                       min_impurity_decrease=0.0, min_impurity_split=None,\n",
              "                       min_samples_leaf=1, min_samples_split=5,\n",
              "                       min_weight_fraction_leaf=0.0, n_estimators=230,\n",
              "                       n_jobs=None, oob_score=False, random_state=None,\n",
              "                       verbose=0, warm_start=False)"
            ]
          },
          "metadata": {
            "tags": []
          },
          "execution_count": 25
        }
      ]
    },
    {
      "cell_type": "code",
      "metadata": {
        "id": "PdC4uyf6-K9s",
        "colab_type": "code",
        "colab": {}
      },
      "source": [
        "#Save and load pre-trained model\n",
        "pickle.dump(rf_loaded, open('1103258-RF', 'wb'))\n",
        "loaded_rf = pickle.load(open('1103258-RF', 'rb'))"
      ],
      "execution_count": 26,
      "outputs": []
    },
    {
      "cell_type": "code",
      "metadata": {
        "id": "Td460RpDhW88",
        "colab_type": "code",
        "colab": {
          "base_uri": "https://localhost:8080/",
          "height": 34
        },
        "outputId": "869ec052-a447-46c3-e423-8f2b1711782d"
      },
      "source": [
        "# Predict using test data and find accuracy\n",
        "pred=loaded_rf.predict(test_x)\n",
        "accuracy_score(Y_test,pred)"
      ],
      "execution_count": 27,
      "outputs": [
        {
          "output_type": "execute_result",
          "data": {
            "text/plain": [
              "1.0"
            ]
          },
          "metadata": {
            "tags": []
          },
          "execution_count": 27
        }
      ]
    },
    {
      "cell_type": "code",
      "metadata": {
        "id": "sMHgyaMyD-Sy",
        "colab_type": "code",
        "colab": {
          "base_uri": "https://localhost:8080/",
          "height": 68
        },
        "outputId": "15df371e-6452-4b07-ac43-d68a424fca43"
      },
      "source": [
        "#Confusion matrix for Random forest\n",
        "confusion_matrix(\n",
        "    Y_test.argmax(axis=1), pred.argmax(axis=1))"
      ],
      "execution_count": 28,
      "outputs": [
        {
          "output_type": "execute_result",
          "data": {
            "text/plain": [
              "array([[148,   0,   0],\n",
              "       [  0, 141,   0],\n",
              "       [  0,   0, 161]])"
            ]
          },
          "metadata": {
            "tags": []
          },
          "execution_count": 28
        }
      ]
    }
  ]
}